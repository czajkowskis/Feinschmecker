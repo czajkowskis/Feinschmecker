{
 "cells": [
  {
   "metadata": {},
   "cell_type": "markdown",
   "source": "# Feinschmecker",
   "id": "41e690e6884fae77"
  },
  {
   "cell_type": "code",
   "id": "initial_id",
   "metadata": {
    "collapsed": true,
    "ExecuteTime": {
     "end_time": "2024-11-16T01:04:22.635245Z",
     "start_time": "2024-11-16T01:04:22.631544Z"
    }
   },
   "source": [
    "from owlready2 import *\n",
    "from owlready2.ntriples_diff import Blank\n",
    "from rdflib.namespace import OWL\n",
    "from torch.cuda import graph\n"
   ],
   "outputs": [],
   "execution_count": 62
  },
  {
   "metadata": {},
   "cell_type": "markdown",
   "source": "### Factory creations",
   "id": "459728788bcfbc1b"
  },
  {
   "metadata": {
    "ExecuteTime": {
     "end_time": "2024-11-16T01:04:22.662264Z",
     "start_time": "2024-11-16T01:04:22.654403Z"
    }
   },
   "cell_type": "code",
   "source": [
    "NAMESPACE = \"https://jaron@sprute.com/uni/actionable-knowledge-representation/feinschmecker\"\n",
    "onto = get_ontology(NAMESPACE)\n",
    "\n",
    "\n",
    "def ThingFactory(name, BaseClass=Thing) -> type[Thing]:\n",
    "    with onto:\n",
    "        return type[Thing](name, (BaseClass,), {})\n",
    "\n",
    "\n",
    "def RelationFactory(name, domain: list[ThingClass] = None, range=None) -> type[ObjectProperty]:\n",
    "    if domain is None:\n",
    "        domain = [Thing]\n",
    "    if range is None:\n",
    "        range = [Thing]\n",
    "    with onto:\n",
    "        return type[ObjectProperty](name, (ObjectProperty,), {\n",
    "            \"domain\": domain,\n",
    "            \"range\": range,\n",
    "        })\n",
    "\n",
    "\n",
    "def DataFactory(name, domain: list[ThingClass] = None, range=None) -> type[DataProperty]:\n",
    "    if domain is None:\n",
    "        domain = [Thing]\n",
    "    if range is None:\n",
    "        range = [str]\n",
    "    with onto:\n",
    "        return type[DataProperty](name, (DataProperty,), {\n",
    "            \"domain\": domain,\n",
    "            \"range\": range,\n",
    "        })\n",
    "\n",
    "\n",
    "def makeInverse(first: ObjectProperty, second: ObjectProperty) -> None:\n",
    "    if first is None or second is None:\n",
    "        raise TypeError(\"There is no inverse of no element: first:\", str(first), \"second:\", str(second))\n",
    "    with onto:\n",
    "        first.inverse_property = second\n",
    "        second.inverse_property = first\n"
   ],
   "id": "ae25fac2013c8a0a",
   "outputs": [],
   "execution_count": 63
  },
  {
   "metadata": {},
   "cell_type": "markdown",
   "source": "### Class creations",
   "id": "1ce7320a57585fa2"
  },
  {
   "metadata": {
    "ExecuteTime": {
     "end_time": "2024-11-16T01:04:22.716546Z",
     "start_time": "2024-11-16T01:04:22.706015Z"
    }
   },
   "cell_type": "code",
   "source": [
    "onto.metadata.comment.append(\"This project is about recipes that are used for meal preparations found in the web.\")\n",
    "\n",
    "Recipe = ThingFactory(\"Recipe\")\n",
    "Recipe.comment = \"The recipe equals the recipe used for meal preparations.\"\n",
    "Ingredient = ThingFactory(\"Ingredient\")\n",
    "Ingredient.comment = \"The ingredient type or name used within a recipe.\"\n",
    "RecipeIngredientRelation = ThingFactory(\"RecipeIngredientRelation\")\n",
    "RecipeIngredientRelation.comment = \"Technically required class in order to save the amount of a certain ingredient required for a certain recipe\"\n",
    "Author = ThingFactory(\"Author\")\n",
    "Author.comment = \"The user name of a recipe written on a certain website.\"\n",
    "Source = ThingFactory(\"Source\")\n",
    "Source.comment = \"The website name including URL on which the recipes are found.\"\n",
    "Time = ThingFactory(\"Time\")\n",
    "Time.comment = \"The time required to finish the preparations of a meal according to a specific recipe. The unit is seconds.\"\n",
    "\n",
    "Nutrients = ThingFactory(\"Nutrients\")\n",
    "Nutrients.comment = \"The nutrients one can expect to find within one meal according to a certain recipe, divided into Proteins, Fats, Carbohydrates and optionally Calories.\"\n",
    "Calories = ThingFactory(\"Calories\", BaseClass=Nutrients)\n",
    "Calories.comment = \"The calories one can expect to find within one meal according to a certain recipe. The unit is minutes.\"\n",
    "Protein = ThingFactory(\"Protein\", BaseClass=Nutrients)\n",
    "Protein.comment = \"The protein one can expect to find within one meal according to a certain recipe. The unit is gram.\"\n",
    "Fat = ThingFactory(\"Fat\", BaseClass=Nutrients)\n",
    "Fat.comment = \"The fat one can expect to find within one meal according to a certain recipe. The unit is gram.\"\n",
    "Carbohydrates = ThingFactory(\"Carbohydrates\", BaseClass=Nutrients)\n",
    "Carbohydrates.comment = \"The carbohydrates one can expect to find within one meal according to a certain recipe. The unit is gram.\""
   ],
   "id": "bb5a180993b7ff56",
   "outputs": [],
   "execution_count": 64
  },
  {
   "metadata": {},
   "cell_type": "markdown",
   "source": "### Relation creations",
   "id": "6dbd167922a9354d"
  },
  {
   "metadata": {
    "ExecuteTime": {
     "end_time": "2024-11-16T01:04:22.779526Z",
     "start_time": "2024-11-16T01:04:22.759584Z"
    }
   },
   "cell_type": "code",
   "source": [
    "# Descends according to the class creations above\n",
    "\n",
    "# Recipe\n",
    "has_ingredient = RelationFactory(\"has_ingredient\", domain=[Recipe], range=[RecipeIngredientRelation])\n",
    "authored_by = RelationFactory(\"authored_by\", domain=[Recipe], range=[Author])\n",
    "requires_time = RelationFactory(\"requires_time\", domain=[Recipe], range=[Time])\n",
    "\n",
    "is_vegan = DataFactory(\"is_vegan\", domain=[Recipe], range=[bool])\n",
    "is_vegetarian = DataFactory(\"is_vegetarian\", domain=[Recipe], range=[bool])\n",
    "has_difficulty = DataFactory(\"has_difficulty\", domain=[Recipe], range=[float])\n",
    "\n",
    "has_calories = RelationFactory(\"has_calories\", domain=[Recipe], range=[Calories])\n",
    "has_protein = RelationFactory(\"has_protein\", domain=[Recipe], range=[Protein])\n",
    "has_fat = RelationFactory(\"has_fat\", domain=[Recipe], range=[Fat])\n",
    "has_carbohydrates = RelationFactory(\"has_carbohydrates\", domain=[Recipe], range=[Carbohydrates])\n",
    "\n",
    "has_link = DataFactory(\"has_link\", domain=[Recipe], range=[str]) # RDF.HTML is not supported, see https://owlready2.readthedocs.io/en/latest/properties.html#data-property \n",
    "\n",
    "# Ingredient\n",
    "is_ingredient_of = RelationFactory(\"is_ingredient_of\", domain=[Ingredient], range=[RecipeIngredientRelation])\n",
    "\n",
    "# RecipeIngredientRelation\n",
    "used_for = RelationFactory(\"used_for\", domain=[RecipeIngredientRelation], range=[Recipe])\n",
    "type_of_ingredient = RelationFactory(\"type_of_ingredient\", domain=[RecipeIngredientRelation], range=[Ingredient])\n",
    "amount_of_ingredient = DataFactory(\"amount_of_ingredient\", domain=[RecipeIngredientRelation], range=[int])\n",
    "unit_of_ingredient = DataFactory(\"amount_of_ingredient\", domain=[RecipeIngredientRelation], range=[str])\n",
    "\n",
    "# Author\n",
    "authored = RelationFactory(\"authored\", domain=[Author], range=[Recipe])\n",
    "is_user_of = RelationFactory(\"is_user_of\", domain=[Author], range=[Source])\n",
    "\n",
    "# Source\n",
    "has_user = RelationFactory(\"has_user\", domain=[Source], range=[Author])\n",
    "is_website = DataFactory(\"is_website\", domain=[Source], range=[str]) # RDF.HTML is not supported, see https://owlready2.readthedocs.io/en/latest/properties.html#data-property\n",
    "\n",
    "# Time\n",
    "time_required = RelationFactory(\"time_required\", domain=[Time], range=[Recipe])\n",
    "amount_of_time = DataFactory(\"amount_of_time\", domain=[Time], range=[int])\n",
    "\n",
    "# Calories\n",
    "calories_of = RelationFactory(\"calories_of\", domain=[Calories], range=[Recipe])\n",
    "amount_of_calories = DataFactory(\"amount_of_calories\", domain=[Calories], range=[float])\n",
    "protein_of = RelationFactory(\"protein_of\", domain=[Protein], range=[Recipe])\n",
    "amount_of_protein = DataFactory(\"amount_of_protein\", domain=[Protein], range=[float])\n",
    "fat_of = RelationFactory(\"fat_of\", domain=[Fat], range=[Recipe])\n",
    "amount_of_fat = DataFactory(\"amount_of_fat\", domain=[Fat], range=[float])\n",
    "carbohydrates_of = RelationFactory(\"carbohydrates_of\", domain=[Carbohydrates], range=[Recipe])\n",
    "amount_of_carbohydrates = DataFactory(\"amount_of_carbohydrates\", domain=[Carbohydrates], range=[float])\n",
    "\n",
    "\n"
   ],
   "id": "e135c3e8b3571971",
   "outputs": [],
   "execution_count": 65
  },
  {
   "metadata": {},
   "cell_type": "markdown",
   "source": "### Interrelational properties",
   "id": "3808cd6f136a55f5"
  },
  {
   "metadata": {
    "ExecuteTime": {
     "end_time": "2024-11-16T01:04:22.826178Z",
     "start_time": "2024-11-16T01:04:22.813984Z"
    }
   },
   "cell_type": "code",
   "source": [
    "# Inverses\n",
    "makeInverse(has_ingredient, used_for)\n",
    "makeInverse(is_ingredient_of, type_of_ingredient)\n",
    "makeInverse(authored_by, authored)\n",
    "makeInverse(is_user_of, has_user)\n",
    "makeInverse(requires_time, time_required)\n",
    "makeInverse(has_calories, calories_of)\n",
    "makeInverse(has_protein, protein_of)\n",
    "makeInverse(has_fat, fat_of)\n",
    "makeInverse(has_carbohydrates, carbohydrates_of)\n",
    "\n",
    "# Limitations\n",
    "with onto:\n",
    "    # Recipe\n",
    "    Recipe.is_a.append(has_ingredient.some(RecipeIngredientRelation))\n",
    "    Recipe.is_a.append(authored_by.exactly(1, Author))\n",
    "    Recipe.is_a.append(requires_time.exactly(1, Time))\n",
    "    Recipe.is_a.append(is_vegan.max(1, bool))\n",
    "    Recipe.is_a.append(is_vegetarian.max(1, bool))\n",
    "    Recipe.is_a.append(has_difficulty.max(1, int))  # Debatable\n",
    "    Recipe.is_a.append(has_calories.max(1, Calories)) \n",
    "    Recipe.is_a.append(has_protein.exactly(1, Protein))\n",
    "    Recipe.is_a.append(has_fat.exactly(1, Fat))\n",
    "    Recipe.is_a.append(has_carbohydrates.exactly(1, Carbohydrates))\n",
    "    Recipe.is_a.append(has_link.exactly(1, str))\n",
    "\n",
    "    # Ingredient\n",
    "    \n",
    "    # RecipeIngredientRelation\n",
    "    RecipeIngredientRelation.is_a.append(used_for.some(Recipe))\n",
    "    RecipeIngredientRelation.is_a.append(type_of_ingredient.exactly(1, Ingredient))\n",
    "    RecipeIngredientRelation.is_a.append(amount_of_ingredient.exactly(1, int))\n",
    "    RecipeIngredientRelation.is_a.append(unit_of_ingredient.exactly(1, str))\n",
    "\n",
    "    # Author\n",
    "    Author.is_a.append(is_user_of.exactly(1, Source))\n",
    "\n",
    "    # Source\n",
    "    Source.is_a.append(is_website.exactly(1, str))\n",
    "    \n",
    "    # Time\n",
    "    Time.is_a.append(amount_of_time.exactly(1, int))\n",
    "\n",
    "    # Calories\n",
    "    Calories.is_a.append(amount_of_calories.exactly(1, float))\n",
    "    Protein.is_a.append(amount_of_protein.exactly(1, float))\n",
    "    Fat.is_a.append(amount_of_fat.exactly(1, float))\n",
    "    Carbohydrates.is_a.append(amount_of_carbohydrates.exactly(1, float))\n",
    "\n",
    "\n",
    "# Disjointness\n",
    "with onto:\n",
    "    AllDisjoint([Recipe, Ingredient, RecipeIngredientRelation, Author, Source, Time, Nutrients])\n",
    "    AllDisjoint([Calories, Protein, Fat, Carbohydrates])"
   ],
   "id": "5ab68c30ea368b82",
   "outputs": [],
   "execution_count": 66
  },
  {
   "metadata": {},
   "cell_type": "markdown",
   "source": "### Individuals",
   "id": "1f4ba553aa28df5a"
  },
  {
   "metadata": {
    "ExecuteTime": {
     "end_time": "2024-11-16T01:04:22.871125Z",
     "start_time": "2024-11-16T01:04:22.867074Z"
    }
   },
   "cell_type": "code",
   "source": [
    "recipeTest = Recipe(\"recipeTest\")\n",
    "ingredientTest = Ingredient(\"ingredientTest\")\n",
    "\n",
    "recipeTest.has_ingredient.append(ingredientTest)\n",
    "print(ingredientTest.is_ingredient_of)\n"
   ],
   "id": "b0d9893912e75be9",
   "outputs": [
    {
     "name": "stdout",
     "output_type": "stream",
     "text": [
      "[]\n"
     ]
    }
   ],
   "execution_count": 67
  },
  {
   "metadata": {},
   "cell_type": "markdown",
   "source": "",
   "id": "457f4aff04b06e9a"
  },
  {
   "metadata": {
    "ExecuteTime": {
     "end_time": "2024-11-16T01:04:22.919229Z",
     "start_time": "2024-11-16T01:04:22.916831Z"
    }
   },
   "cell_type": "code",
   "source": "",
   "id": "240668f08a807517",
   "outputs": [],
   "execution_count": null
  },
  {
   "metadata": {
    "ExecuteTime": {
     "end_time": "2024-11-16T01:04:22.967039Z",
     "start_time": "2024-11-16T01:04:22.963634Z"
    }
   },
   "cell_type": "code",
   "source": [
    "with onto:\n",
    "    print(list(default_world.individuals()))\n",
    "    print(list(default_world.inconsistent_classes()))"
   ],
   "id": "e4a1277e8a74717c",
   "outputs": [
    {
     "name": "stdout",
     "output_type": "stream",
     "text": [
      "[feinschmecker.recipeTest, feinschmecker.ingredientTest]\n",
      "[]\n"
     ]
    }
   ],
   "execution_count": 68
  },
  {
   "metadata": {},
   "cell_type": "markdown",
   "source": "## Temporary deletion to avoid side effects",
   "id": "7a3a7b9157b930db"
  },
  {
   "metadata": {
    "ExecuteTime": {
     "end_time": "2024-11-16T01:04:23.020281Z",
     "start_time": "2024-11-16T01:04:23.013902Z"
    }
   },
   "cell_type": "code",
   "source": [
    "onto.save(\"feinschmecker.rdf\")\n",
    "onto.destroy(update_relation=True, update_is_a=True)"
   ],
   "id": "42deb7b620f18b68",
   "outputs": [],
   "execution_count": 69
  },
  {
   "metadata": {
    "ExecuteTime": {
     "end_time": "2024-11-16T01:04:23.064434Z",
     "start_time": "2024-11-16T01:04:23.061405Z"
    }
   },
   "cell_type": "code",
   "source": "",
   "id": "8cc8495de605b29f",
   "outputs": [],
   "execution_count": null
  }
 ],
 "metadata": {
  "kernelspec": {
   "display_name": "Python 3",
   "language": "python",
   "name": "python3"
  },
  "language_info": {
   "codemirror_mode": {
    "name": "ipython",
    "version": 2
   },
   "file_extension": ".py",
   "mimetype": "text/x-python",
   "name": "python",
   "nbconvert_exporter": "python",
   "pygments_lexer": "ipython2",
   "version": "2.7.6"
  }
 },
 "nbformat": 4,
 "nbformat_minor": 5
}
