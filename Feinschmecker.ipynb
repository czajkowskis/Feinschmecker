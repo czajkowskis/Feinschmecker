{
 "cells": [
  {
   "metadata": {},
   "cell_type": "markdown",
   "source": "# Feinschmecker",
   "id": "41e690e6884fae77"
  },
  {
   "cell_type": "code",
   "id": "initial_id",
   "metadata": {
    "collapsed": true,
    "ExecuteTime": {
     "end_time": "2024-11-15T23:23:12.834325Z",
     "start_time": "2024-11-15T23:23:12.829462Z"
    }
   },
   "source": [
    "import owlready2\n",
    "import rdflib\n",
    "from owlready2.ntriples_diff import Blank\n",
    "# imports\n",
    "from rdflib import Graph, Literal, URIRef, Namespace\n",
    "from rdflib.namespace import OWL, RDF, RDFS, XSD\n",
    "from owlready2 import *\n"
   ],
   "outputs": [],
   "execution_count": 102
  },
  {
   "metadata": {},
   "cell_type": "markdown",
   "source": "### Factory creations",
   "id": "459728788bcfbc1b"
  },
  {
   "metadata": {
    "ExecuteTime": {
     "end_time": "2024-11-15T23:23:12.863823Z",
     "start_time": "2024-11-15T23:23:12.851848Z"
    }
   },
   "cell_type": "code",
   "source": [
    "NAMESPACE = \"https://jaron@sprute.com/uni/actionable-knowledge-representation/feinschmecker\"\n",
    "onto = get_ontology(NAMESPACE)\n",
    "\n",
    "def ThingFactory(name, BaseClass=Thing) -> type[Thing]:\n",
    "    with onto:\n",
    "        return type[Thing](name, (BaseClass,), {})\n",
    "\n",
    "def RelationFactory(name, domain:list[ThingClass]=None, range=None) -> type[ObjectProperty]:\n",
    "    if domain is None:\n",
    "        domain = [Thing]\n",
    "    if range is None:\n",
    "        range = [Thing]\n",
    "    with onto:\n",
    "        return type[ObjectProperty](name, (ObjectProperty, ), {\n",
    "            \"domain\": domain,\n",
    "            \"range\": range,\n",
    "        })\n",
    "\n",
    "def DataFactory(name, domain:list[ThingClass]=None, range=None) -> type[DataProperty]:\n",
    "    if domain is None:\n",
    "        domain = [Thing]\n",
    "    if range is None:\n",
    "        range = [OWL.Nothing]\n",
    "    with onto:\n",
    "        return type[DataProperty](name, (DataProperty, ), {\n",
    "            \"domain\": domain,\n",
    "            \"range\": range,\n",
    "        })\n",
    "\n",
    "def makeInverse(first: ObjectProperty, second: ObjectProperty) -> None:\n",
    "    if first is None or second is None:\n",
    "        raise TypeError(\"There is no inverse of no element: first:\", str(first) , \"second:\", str(second))\n",
    "    with onto:\n",
    "        first.inverse_property = second\n",
    "        second.inverse_property = first\n"
   ],
   "id": "ae25fac2013c8a0a",
   "outputs": [],
   "execution_count": 103
  },
  {
   "metadata": {},
   "cell_type": "markdown",
   "source": "### Class creations",
   "id": "1ce7320a57585fa2"
  },
  {
   "metadata": {
    "ExecuteTime": {
     "end_time": "2024-11-15T23:23:12.915996Z",
     "start_time": "2024-11-15T23:23:12.907701Z"
    }
   },
   "cell_type": "code",
   "source": [
    "Recipe = ThingFactory(\"Recipe\")\n",
    "Ingredient = ThingFactory(\"Ingredient\")\n",
    "Author = ThingFactory(\"Author\")\n",
    "Source = ThingFactory(\"Source\")\n",
    "Time = ThingFactory(\"Time\")\n",
    "\n",
    "Concepts = ThingFactory(\"Concepts\")\n",
    "Vegetarian = ThingFactory(\"Vegetarian\", BaseClass=Concepts)\n",
    "Vegan = ThingFactory(\"Vegan\", BaseClass=Concepts)\n",
    "Difficulty = ThingFactory(\"Difficulty\", BaseClass=Concepts)\n",
    "\n",
    "Calories = ThingFactory(\"Calories\")\n",
    "Protein = ThingFactory(\"Protein\", BaseClass=Calories)\n",
    "Fat = ThingFactory(\"Fat\", BaseClass=Calories)\n",
    "Carbohydrates = ThingFactory(\"Carbohydrates\", BaseClass=Calories)"
   ],
   "id": "bb5a180993b7ff56",
   "outputs": [],
   "execution_count": 104
  },
  {
   "metadata": {},
   "cell_type": "markdown",
   "source": "### Relation creations",
   "id": "6dbd167922a9354d"
  },
  {
   "metadata": {
    "ExecuteTime": {
     "end_time": "2024-11-15T23:23:13.013440Z",
     "start_time": "2024-11-15T23:23:12.972492Z"
    }
   },
   "cell_type": "code",
   "source": [
    "# Descends according to the class creations above\n",
    "\n",
    "# Recipe\n",
    "has_ingredient = RelationFactory(\"has_ingredient\", domain=[Recipe], range=[Ingredient])\n",
    "authored_by = RelationFactory(\"authored_by\", domain=[Recipe], range=[Author])\n",
    "requires_time = RelationFactory(\"requires_time\", domain=[Recipe], range=[Time])\n",
    "\n",
    "is_vegan = RelationFactory(\"is_vegan\", domain=[Recipe], range=[Vegan])\n",
    "is_vegetarian = RelationFactory(\"is_vegetarian\", domain=[Recipe], range=[Vegetarian])\n",
    "has_difficulty = RelationFactory(\"has_difficulty\", domain=[Recipe], range=[Difficulty])\n",
    "\n",
    "has_calories = RelationFactory(\"has_calories\", domain=[Recipe], range=[Calories])\n",
    "has_protein = RelationFactory(\"has_protein\", domain=[Recipe], range=[Protein])\n",
    "has_fat = RelationFactory(\"has_fat\", domain=[Recipe], range=[Fat])\n",
    "has_carbohydrates = RelationFactory(\"has_carbohydrates\", domain=[Recipe], range=[Carbohydrates])\n",
    "\n",
    "has_link = DataFactory(\"has_link\", domain=[Recipe], range=[str]) # RDF.HTML is not supported, see https://owlready2.readthedocs.io/en/latest/properties.html#data-property \n",
    "\n",
    "# Ingredient\n",
    "is_ingredient_of = RelationFactory(\"is_ingredient_of\", domain=[Ingredient], range=[Recipe])\n",
    "\n",
    "# Author\n",
    "authored = RelationFactory(\"authored\", domain=[Author], range=[Recipe])\n",
    "is_user_of = RelationFactory(\"is_user_of\", domain=[Author], range=[Source])\n",
    "\n",
    "# Source\n",
    "has_user = RelationFactory(\"has_user\", domain=[Source], range=[Author])\n",
    "\n",
    "# Time\n",
    "time_required = RelationFactory(\"time_required\", domain=[Time], range=[Recipe])\n",
    "\n",
    "# Concepts\n",
    "vegan_applies_to = RelationFactory(\"vegan_applies_to\", domain=[Vegan], range=[Recipe])\n",
    "vegetarian_applies_to = RelationFactory(\"vegetarian_applies_to\", domain=[Vegetarian], range=[Recipe])\n",
    "difficulty_applies_to = RelationFactory(\"difficulty_applies_to\", domain=[Difficulty], range=[Recipe])\n",
    "\n",
    "# Calories\n",
    "calories_of = RelationFactory(\"calories_of\", domain=[Calories], range=[Recipe])\n",
    "protein_of = RelationFactory(\"protein_of\", domain=[Protein], range=[Recipe])\n",
    "fat_of = RelationFactory(\"fat_of\", domain=[Fat], range=[Recipe])\n",
    "carbohydrates_of = RelationFactory(\"carbohydrates_of\" , domain=[Carbohydrates], range=[Recipe])\n",
    "\n",
    "\n"
   ],
   "id": "e135c3e8b3571971",
   "outputs": [],
   "execution_count": 105
  },
  {
   "metadata": {},
   "cell_type": "markdown",
   "source": "### Interrelational properties",
   "id": "3808cd6f136a55f5"
  },
  {
   "metadata": {
    "ExecuteTime": {
     "end_time": "2024-11-15T23:23:13.029260Z",
     "start_time": "2024-11-15T23:23:13.022125Z"
    }
   },
   "cell_type": "code",
   "source": [
    "# Inverses\n",
    "makeInverse(has_ingredient, is_ingredient_of)\n",
    "makeInverse(authored_by, authored)\n",
    "makeInverse(is_vegan, vegan_applies_to)\n",
    "makeInverse(is_vegetarian, vegetarian_applies_to)\n",
    "makeInverse(has_difficulty, difficulty_applies_to)\n",
    "makeInverse(is_user_of, has_user)\n",
    "makeInverse(requires_time, time_required)\n",
    "makeInverse(has_calories, calories_of)\n",
    "makeInverse(has_protein, protein_of)\n",
    "makeInverse(has_fat, fat_of)\n",
    "makeInverse(has_carbohydrates, carbohydrates_of)\n",
    "\n",
    "# Limitations\n",
    "with onto:\n",
    "    # Recipe\n",
    "    Recipe.is_a.append(has_ingredient.exactly(1, Ingredient))\n",
    "    Recipe.is_a.append(authored_by.exactly(1, Author))\n",
    "    Recipe.is_a.append(is_vegan.max(1, Vegan))\n",
    "    Recipe.is_a.append(is_vegetarian.max(1, Vegetarian))\n",
    "    Recipe.is_a.append(has_difficulty.max(1, Difficulty)) # Debatable\n",
    "    Recipe.is_a.append(has_calories.max(1, Calories)) # Debatable\n",
    "    Recipe.is_a.append(has_protein.exactly(1, Protein))\n",
    "    Recipe.is_a.append(has_fat.exactly(1, Fat))\n",
    "    Recipe.is_a.append(has_carbohydrates.exactly(1, Carbohydrates))\n",
    "    Recipe.is_a.append(has_link.exactly(1, str))\n",
    "    \n",
    "    # Ingredient\n",
    "    Ingredient.is_a.append(is_ingredient_of.some(Recipe))\n",
    "    \n",
    "    # Author\n",
    "    Author.is_a.append(is_user_of.exactly(1, Source))\n",
    "    \n",
    "    # Source\n",
    "    \n",
    "    # Concepts\n",
    "    \n",
    "    # Calories\n",
    "\n",
    "# Disjointness\n",
    "with onto:\n",
    "    AllDisjoint([Recipe, Ingredient, Author, Source, Concepts, Calories])"
   ],
   "id": "5ab68c30ea368b82",
   "outputs": [],
   "execution_count": 106
  },
  {
   "metadata": {},
   "cell_type": "markdown",
   "source": "### Individuals",
   "id": "1f4ba553aa28df5a"
  },
  {
   "metadata": {
    "ExecuteTime": {
     "end_time": "2024-11-15T23:23:13.079165Z",
     "start_time": "2024-11-15T23:23:13.073892Z"
    }
   },
   "cell_type": "code",
   "source": [
    "recipeTest = Recipe(\"recipeTest\")\n",
    "ingredientTest = Ingredient(\"ingredientTest\")\n",
    "\n",
    "recipeTest.has_ingredient.append(ingredientTest)\n",
    "print(ingredientTest.is_ingredient_of)\n"
   ],
   "id": "b0d9893912e75be9",
   "outputs": [
    {
     "name": "stdout",
     "output_type": "stream",
     "text": [
      "[feinschmecker.recipeTest]\n"
     ]
    }
   ],
   "execution_count": 107
  },
  {
   "metadata": {},
   "cell_type": "markdown",
   "source": "",
   "id": "457f4aff04b06e9a"
  },
  {
   "metadata": {
    "ExecuteTime": {
     "end_time": "2024-11-15T23:23:13.187397Z",
     "start_time": "2024-11-15T23:23:13.184175Z"
    }
   },
   "cell_type": "code",
   "source": "",
   "id": "240668f08a807517",
   "outputs": [],
   "execution_count": null
  },
  {
   "metadata": {
    "ExecuteTime": {
     "end_time": "2024-11-15T23:23:13.241033Z",
     "start_time": "2024-11-15T23:23:13.234018Z"
    }
   },
   "cell_type": "code",
   "source": [
    "with onto:\n",
    "    print(list(default_world.individuals()))\n",
    "    print(list(default_world.inconsistent_classes()))"
   ],
   "id": "e4a1277e8a74717c",
   "outputs": [
    {
     "name": "stdout",
     "output_type": "stream",
     "text": [
      "[feinschmecker.recipeTest, feinschmecker.ingredientTest]\n",
      "[]\n"
     ]
    }
   ],
   "execution_count": 108
  },
  {
   "metadata": {},
   "cell_type": "markdown",
   "source": "## Temporary deletion to avoid side effects",
   "id": "7a3a7b9157b930db"
  },
  {
   "metadata": {
    "ExecuteTime": {
     "end_time": "2024-11-15T23:23:13.370179Z",
     "start_time": "2024-11-15T23:23:13.364676Z"
    }
   },
   "cell_type": "code",
   "source": [
    "onto.save(\"feinschmecker.rdf\")\n",
    "onto.destroy(update_relation=True, update_is_a=True)"
   ],
   "id": "42deb7b620f18b68",
   "outputs": [],
   "execution_count": 109
  },
  {
   "metadata": {
    "ExecuteTime": {
     "end_time": "2024-11-15T23:23:13.409616Z",
     "start_time": "2024-11-15T23:23:13.407546Z"
    }
   },
   "cell_type": "code",
   "source": "",
   "id": "8cc8495de605b29f",
   "outputs": [],
   "execution_count": null
  }
 ],
 "metadata": {
  "kernelspec": {
   "display_name": "Python 3",
   "language": "python",
   "name": "python3"
  },
  "language_info": {
   "codemirror_mode": {
    "name": "ipython",
    "version": 2
   },
   "file_extension": ".py",
   "mimetype": "text/x-python",
   "name": "python",
   "nbconvert_exporter": "python",
   "pygments_lexer": "ipython2",
   "version": "2.7.6"
  }
 },
 "nbformat": 4,
 "nbformat_minor": 5
}
