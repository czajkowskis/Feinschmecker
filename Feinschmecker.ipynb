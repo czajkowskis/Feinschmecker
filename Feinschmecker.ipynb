{
 "cells": [
  {
   "cell_type": "markdown",
   "id": "41e690e6884fae77",
   "metadata": {},
   "source": [
    "# Feinschmecker"
   ]
  },
  {
   "cell_type": "code",
   "id": "initial_id",
   "metadata": {
    "collapsed": true,
    "ExecuteTime": {
     "end_time": "2024-11-29T22:46:25.727181Z",
     "start_time": "2024-11-29T22:46:25.722458Z"
    }
   },
   "source": [
    "from exceptiongroup import catch\n",
    "from owlready2 import *\n",
    "import json\n"
   ],
   "outputs": [],
   "execution_count": 57
  },
  {
   "cell_type": "markdown",
   "id": "459728788bcfbc1b",
   "metadata": {},
   "source": [
    "### Factory creations"
   ]
  },
  {
   "cell_type": "code",
   "id": "ae25fac2013c8a0a",
   "metadata": {
    "ExecuteTime": {
     "end_time": "2024-11-29T22:46:25.792188Z",
     "start_time": "2024-11-29T22:46:25.778257Z"
    }
   },
   "source": [
    "NAMESPACE = \"https://jaron@sprute.com/uni/actionable-knowledge-representation/feinschmecker\"\n",
    "onto = get_ontology(NAMESPACE)\n",
    "\n",
    "\n",
    "def ThingFactory(name, BaseClass=Thing) -> type[Thing]:\n",
    "    with onto:\n",
    "        return type[Thing](name, (BaseClass,), {})\n",
    "\n",
    "\n",
    "def RelationFactory(name, domain: list[ThingClass] = None, range=None) -> type[ObjectProperty]:\n",
    "    if domain is None:\n",
    "        domain = [Thing]\n",
    "    if range is None:\n",
    "        range = [Thing]\n",
    "    with onto:\n",
    "        return type[ObjectProperty](name, (ObjectProperty,), {\n",
    "            \"domain\": domain,\n",
    "            \"range\": range,\n",
    "        })\n",
    "\n",
    "\n",
    "def DataFactory(name, domain: list[ThingClass] = None, range=None) -> type[DataProperty]:\n",
    "    if domain is None:\n",
    "        domain = [Thing]\n",
    "    if range is None:\n",
    "        range = [str]\n",
    "    with onto:\n",
    "        return type[DataProperty](name, (DataProperty,), {\n",
    "            \"domain\": domain,\n",
    "            \"range\": range,\n",
    "        })\n",
    "\n",
    "\n",
    "def makeInverse(first: ObjectProperty, second: ObjectProperty) -> None:\n",
    "    if first is None or second is None:\n",
    "        raise TypeError(\"There is no inverse of no element: first:\", str(first), \"second:\", str(second))\n",
    "    with onto:\n",
    "        first.inverse_property = second\n",
    "        second.inverse_property = first\n"
   ],
   "outputs": [],
   "execution_count": 58
  },
  {
   "cell_type": "markdown",
   "id": "1ce7320a57585fa2",
   "metadata": {},
   "source": [
    "### Class creations"
   ]
  },
  {
   "cell_type": "code",
   "id": "bb5a180993b7ff56",
   "metadata": {
    "ExecuteTime": {
     "end_time": "2024-11-29T22:46:25.823287Z",
     "start_time": "2024-11-29T22:46:25.816440Z"
    }
   },
   "source": [
    "onto.metadata.comment.append(\"This project is about recipes that are used for meal preparations found in the web.\")\n",
    "\n",
    "Recipe = ThingFactory(\"Recipe\")\n",
    "Recipe.comment = \"A list of steps needed to prepare a meal, along with time of preparation, amount of calories, amounts of macroelements and information about it being vegetarian or vegan\"\n",
    "Ingredient = ThingFactory(\"Ingredient\")\n",
    "Ingredient.comment = \"The ingredient type or name used within a recipe.\"\n",
    "IngredientWithAmount = ThingFactory(\"RecipeIngredientRelation\")\n",
    "IngredientWithAmount.comment = \"Technically required class in order to save the amount of a certain ingredient required for a certain recipe\"\n",
    "Author = ThingFactory(\"Author\")\n",
    "Author.comment = \"The name (or username) of the author of the recipe written on a certain website.\"\n",
    "Source = ThingFactory(\"Source\")\n",
    "Source.comment = \"The website name including URL on which the recipe is found.\"\n",
    "Time = ThingFactory(\"Time\")\n",
    "Time.comment = \"The time required to finish the preparations of a meal according to a specific recipe. The unit is minutes.\"\n",
    "\n",
    "Nutrients = ThingFactory(\"Nutrients\")\n",
    "Nutrients.comment = \"The nutrients one can expect to find within the meal according to a certain recipe, divided into Proteins, Fats, Carbohydrates and optionally Calories.\"\n",
    "Calories = ThingFactory(\"Calories\", BaseClass=Nutrients)\n",
    "Calories.comment = \"The calories one can expect to find within the meal according to a certain recipe. The unit is kilocalorie.\"\n",
    "Protein = ThingFactory(\"Protein\", BaseClass=Nutrients)\n",
    "Protein.comment = \"The protein one can expect to find within the meal according to a certain recipe. The unit is gram.\"\n",
    "Fat = ThingFactory(\"Fat\", BaseClass=Nutrients)\n",
    "Fat.comment = \"The fat one can expect to find within the meal according to a certain recipe. The unit is gram.\"\n",
    "Carbohydrates = ThingFactory(\"Carbohydrates\", BaseClass=Nutrients)\n",
    "Carbohydrates.comment = \"The carbohydrates one can expect to find within the meal according to a certain recipe. The unit is gram.\""
   ],
   "outputs": [],
   "execution_count": 59
  },
  {
   "cell_type": "markdown",
   "id": "6dbd167922a9354d",
   "metadata": {},
   "source": [
    "### Relation creations"
   ]
  },
  {
   "cell_type": "code",
   "id": "e135c3e8b3571971",
   "metadata": {
    "ExecuteTime": {
     "end_time": "2024-11-29T22:46:25.869059Z",
     "start_time": "2024-11-29T22:46:25.850554Z"
    }
   },
   "source": [
    "# Descends according to the class creations above\n",
    "\n",
    "# Recipe\n",
    "has_instructions = DataFactory(\"has_instructions\", domain=[Recipe], range=[str])\n",
    "has_instructions.comment = \"A description of the instructions one has to follow according to the recipe in form of a text.\"\n",
    "\n",
    "has_ingredient = RelationFactory(\"has_ingredient\", domain=[Recipe], range=[IngredientWithAmount])\n",
    "has_ingredient.comment = \"A link from the recipe to one of the ingredients including their amount required for it.\"\n",
    "authored_by = RelationFactory(\"authored_by\", domain=[Recipe], range=[Author])\n",
    "authored_by.comment = \"A link from the recipe to its author.\"\n",
    "requires_time = RelationFactory(\"requires_time\", domain=[Recipe], range=[Time])\n",
    "requires_time.comment = \"A link from the recipe to the time required in order to create the in the recipe specified meal.\"\n",
    "\n",
    "is_vegan = DataFactory(\"is_vegan\", domain=[Recipe], range=[bool])\n",
    "is_vegan.comment = \"A description of whether the recipe is vegan or not.\"\n",
    "is_vegetarian = DataFactory(\"is_vegetarian\", domain=[Recipe], range=[bool])\n",
    "is_vegetarian.comment = \"A description of whether the recipe is vegetarian or not.\"\n",
    "has_difficulty = DataFactory(\"has_difficulty\", domain=[Recipe], range=[float])\n",
    "has_difficulty.comment = \"A description of the recipes difficulty in form of a floating point number from 1 to 3 where 1 represents easy, 2 moderately hard and 3 hard.\"\n",
    "\n",
    "has_calories = RelationFactory(\"has_calories\", domain=[Recipe], range=[Calories])\n",
    "has_calories.comment = \"A link from the recipe to the amount of calories a meal created according to it approximately has\"\n",
    "has_protein = RelationFactory(\"has_protein\", domain=[Recipe], range=[Protein])\n",
    "has_protein.comment = \"A link from the recipe to the amount of protein a meal created according to it approximately has\"\n",
    "has_fat = RelationFactory(\"has_fat\", domain=[Recipe], range=[Fat])\n",
    "has_fat.comment = \"A link from the recipe to the amount of fat a meal created according to it approximately has\"\n",
    "has_carbohydrates = RelationFactory(\"has_carbohydrates\", domain=[Recipe], range=[Carbohydrates])\n",
    "has_carbohydrates.comment = \"A link from the recipe to the amount of carbohydrates a meal created according to it approximately has\"\n",
    "\n",
    "has_link = DataFactory(\"has_link\", domain=[Recipe], range=[str]) # RDF.HTML is not supported, see https://owlready2.readthedocs.io/en/latest/properties.html#data-property \n",
    "has_link.comment = \"A description of the URL the recipe was found on. Since URLs are not supported by owlready2 in form of a text.\"\n",
    "\n",
    "# Ingredient\n",
    "is_ingredient_of = RelationFactory(\"is_ingredient_of\", domain=[Ingredient], range=[IngredientWithAmount])\n",
    "is_ingredient_of.comment = \"A link from the ingredient to the ingredient with amount which is required for at least one recipe.\"\n",
    "\n",
    "# IngredientWithAmount\n",
    "used_for = RelationFactory(\"used_for\", domain=[IngredientWithAmount], range=[Recipe])\n",
    "used_for.comment = \"A link from the ingredient with amount to the recipe which requires that specific amount of the ingredient.\"\n",
    "type_of_ingredient = RelationFactory(\"type_of_ingredient\", domain=[IngredientWithAmount], range=[Ingredient])\n",
    "type_of_ingredient.comment = \"A link from the ingredient with amount to the ingredient it has the amount of.\"\n",
    "amount_of_ingredient = DataFactory(\"amount_of_ingredient\", domain=[IngredientWithAmount], range=[float])\n",
    "amount_of_ingredient.comment = \"A description of the numeric quantity the ingredient with amount has the ingredient as a floating point number.\"\n",
    "unit_of_ingredient = DataFactory(\"unit_of_ingredient\", domain=[IngredientWithAmount], range=[str])\n",
    "unit_of_ingredient.comment = \"A description of the unit the ingredient with amount has the ingredient as a text.\"\n",
    "\n",
    "# Author\n",
    "authored = RelationFactory(\"authored\", domain=[Author], range=[Recipe])\n",
    "authored.comment = \"A link from the author to the recipe the author authored.\"\n",
    "is_author_of = RelationFactory(\"is_author_of\", domain=[Author], range=[Source])\n",
    "is_author_of.comment = \"A link from the author in form of a user to the source/website he is part of.\"\n",
    "\n",
    "# Source\n",
    "has_author = RelationFactory(\"has_author\", domain=[Source], range=[Author])\n",
    "has_author.comment = \"A link from the source/website to the author in form of a user using this website.\"\n",
    "is_website = DataFactory(\"is_website\", domain=[Source], range=[str]) # RDF.HTML is not supported, see https://owlready2.readthedocs.io/en/latest/properties.html#data-property\n",
    "is_website.comment = \"A description of the URL the source/website uses. Since URLs are not supported by owlready2 in form of a text.\"\n",
    "\n",
    "# Time\n",
    "time_required_by = RelationFactory(\"time_required\", domain=[Time], range=[Recipe])\n",
    "time_required_by.comment = \"A link from the time to the recipe which requires the time to complete its meal.\"\n",
    "amount_of_time = DataFactory(\"amount_of_time\", domain=[Time], range=[int])\n",
    "amount_of_time.comment = \"A description of the duration of the time in minutes as a number.\"\n",
    "\n",
    "# Nutrients\n",
    "calories_of = RelationFactory(\"calories_of\", domain=[Calories], range=[Recipe])\n",
    "calories_of.comment = \"A link from the calories to the recipe whose meal approximately has the amount of calories of.\"\n",
    "amount_of_calories = DataFactory(\"amount_of_calories\", domain=[Calories], range=[float])\n",
    "amount_of_calories.comment = \"A description of the amount the calories has in kilocalorie as a floating point number.\"\n",
    "protein_of = RelationFactory(\"protein_of\", domain=[Protein], range=[Recipe])\n",
    "protein_of.comment = \"A link from the protein to the recipe whose meal approximately has the amount of protein of.\"\n",
    "amount_of_protein = DataFactory(\"amount_of_protein\", domain=[Protein], range=[float])\n",
    "amount_of_protein.comment = \"A description of the amount the protein has in gram as a floating point number.\"\n",
    "fat_of = RelationFactory(\"fat_of\", domain=[Fat], range=[Recipe])\n",
    "fat_of.comment = \"A link from the fat to the recipe whose meal approximately has the amount of fat of.\"\n",
    "amount_of_fat = DataFactory(\"amount_of_fat\", domain=[Fat], range=[float])\n",
    "amount_of_fat.comment = \"A description of the amount the fat has in gram as a floating point number.\"\n",
    "carbohydrates_of = RelationFactory(\"carbohydrates_of\", domain=[Carbohydrates], range=[Recipe])\n",
    "carbohydrates_of.comment = \"A link from the carbohydrates to the recipe whose meal approximately has the amount of carbohydrates of.\"\n",
    "amount_of_carbohydrates = DataFactory(\"amount_of_carbohydrates\", domain=[Carbohydrates], range=[float])\n",
    "amount_of_carbohydrates.comment = \"A description of the amount the carbohydrates has in gram as a floating point number.\""
   ],
   "outputs": [],
   "execution_count": 60
  },
  {
   "cell_type": "markdown",
   "id": "3808cd6f136a55f5",
   "metadata": {},
   "source": [
    "### Interrelational properties"
   ]
  },
  {
   "cell_type": "code",
   "id": "5ab68c30ea368b82",
   "metadata": {
    "ExecuteTime": {
     "end_time": "2024-11-29T22:46:25.905887Z",
     "start_time": "2024-11-29T22:46:25.891075Z"
    }
   },
   "source": [
    "# Inverses\n",
    "makeInverse(has_ingredient, used_for)\n",
    "makeInverse(is_ingredient_of, type_of_ingredient)\n",
    "makeInverse(authored_by, authored)\n",
    "makeInverse(is_author_of, has_author)\n",
    "makeInverse(requires_time, time_required_by)\n",
    "makeInverse(has_calories, calories_of)\n",
    "makeInverse(has_protein, protein_of)\n",
    "makeInverse(has_fat, fat_of)\n",
    "makeInverse(has_carbohydrates, carbohydrates_of)\n",
    "\n",
    "# Limitations\n",
    "with onto:\n",
    "    # Recipe\n",
    "    Recipe.is_a.append(has_instructions.exactly(1, str))\n",
    "    Recipe.is_a.append(has_ingredient.some(IngredientWithAmount))\n",
    "    Recipe.is_a.append(authored_by.exactly(1, Author))\n",
    "    Recipe.is_a.append(requires_time.exactly(1, Time))\n",
    "    Recipe.is_a.append(is_vegan.max(1, bool))\n",
    "    Recipe.is_a.append(is_vegetarian.max(1, bool))\n",
    "    Recipe.is_a.append(has_difficulty.max(1, int))  # Debatable\n",
    "    Recipe.is_a.append(has_calories.max(1, Calories)) \n",
    "    Recipe.is_a.append(has_protein.exactly(1, Protein))\n",
    "    Recipe.is_a.append(has_fat.exactly(1, Fat))\n",
    "    Recipe.is_a.append(has_carbohydrates.exactly(1, Carbohydrates))\n",
    "    Recipe.is_a.append(has_link.exactly(1, str))\n",
    "\n",
    "    # Ingredient\n",
    "    \n",
    "    # RecipeIngredientRelation\n",
    "    IngredientWithAmount.is_a.append(used_for.some(Recipe))\n",
    "    IngredientWithAmount.is_a.append(type_of_ingredient.exactly(1, Ingredient))\n",
    "    IngredientWithAmount.is_a.append(amount_of_ingredient.exactly(1, int))\n",
    "    IngredientWithAmount.is_a.append(unit_of_ingredient.exactly(1, str))\n",
    "\n",
    "    # Source\n",
    "    Source.is_a.append(is_website.exactly(1, str))\n",
    "    \n",
    "    # Time\n",
    "    Time.is_a.append(amount_of_time.exactly(1, int))\n",
    "\n",
    "    # Calories\n",
    "    Calories.is_a.append(amount_of_calories.exactly(1, float))\n",
    "    Protein.is_a.append(amount_of_protein.exactly(1, float))\n",
    "    Fat.is_a.append(amount_of_fat.exactly(1, float))\n",
    "    Carbohydrates.is_a.append(amount_of_carbohydrates.exactly(1, float))\n",
    "\n",
    "\n",
    "# Disjointness\n",
    "with onto:\n",
    "    AllDisjoint([Recipe, Ingredient, IngredientWithAmount, Author, Source, Time, Nutrients])\n",
    "    AllDisjoint([Calories, Protein, Fat, Carbohydrates])"
   ],
   "outputs": [],
   "execution_count": 61
  },
  {
   "cell_type": "markdown",
   "id": "1f4ba553aa28df5a",
   "metadata": {},
   "source": "### Individuals from JSON file"
  },
  {
   "cell_type": "code",
   "id": "b0d9893912e75be9",
   "metadata": {
    "ExecuteTime": {
     "end_time": "2024-11-29T22:46:25.990400Z",
     "start_time": "2024-11-29T22:46:25.949268Z"
    }
   },
   "source": [
    "# Creates individual or returns it if it exists(existing -> bool = 1) with a fitting type\n",
    "def createIndividual(name, BaseClass, unique=False) -> (Thing, bool):\n",
    "    if onto[name] is None:\n",
    "        return BaseClass(name), False\n",
    "    if type(onto[name]) != BaseClass or unique:\n",
    "        raise TypeError(\"Individual \" + name + \" already exists:\\nExisting: \" + str(type(onto[name])) + \"\\nRequested: \" + str(BaseClass))\n",
    "    return onto[name], True\n",
    "\n",
    "\n",
    "with open(\"recipes.json\", \"r\") as json_recipe:\n",
    "    recipes = json.load(json_recipe)\n",
    "\n",
    "\n",
    "mainSource = (\"Example\", \"https://example.org\")\n",
    "source, _ = createIndividual(mainSource[0], BaseClass=Source, unique=True)\n",
    "source.is_website.append(mainSource[1])\n",
    "\n",
    "\n",
    "for json_recipe in recipes:\n",
    "    recipe, _ = createIndividual(json_recipe[\"title\"], BaseClass=Recipe, unique=True)\n",
    "    recipe.has_instructions.append(\"Just do it correctly ;D\")\n",
    "\n",
    "    # IngredientWithAmount\n",
    "    for extendedIngredient in json_recipe[\"ingredients\"]:\n",
    "        ingredientWithAmount, existed = createIndividual(extendedIngredient[\"id\"], BaseClass=IngredientWithAmount)\n",
    "        if existed:\n",
    "            recipe.has_ingredient.append(ingredientWithAmount)\n",
    "            continue\n",
    "        if extendedIngredient[\"quantity\"] is not None:\n",
    "            ingredientWithAmount.amount_of_ingredient.append(extendedIngredient[\"quantity\"])\n",
    "        else:\n",
    "            ingredientWithAmount.amount_of_ingredient.append(1)\n",
    "        ingredientWithAmount.unit_of_ingredient.append(str(extendedIngredient[\"unit\"]))\n",
    "        ingredient, _ = createIndividual(extendedIngredient[\"ingredient\"][\"id\"], BaseClass=Ingredient)\n",
    "        ingredientWithAmount.type_of_ingredient.append(ingredient)\n",
    "        recipe.has_ingredient.append(ingredientWithAmount)\n",
    "\n",
    "    # Author\n",
    "    author, existed = createIndividual(json_recipe[\"author\"], BaseClass=Author)\n",
    "    if not existed:\n",
    "        author.is_author_of.append(source)\n",
    "    recipe.authored_by.append(author)\n",
    "    \n",
    "    # Time\n",
    "    time, existed = createIndividual(\"time_\" + str(json_recipe[\"time\"][0]), BaseClass=Time)\n",
    "    if not existed:\n",
    "        time.amount_of_time.append(json_recipe[\"time\"][0])\n",
    "    recipe.requires_time.append(time)\n",
    "    \n",
    "    recipe.is_vegan.append(json_recipe[\"vegan\"])\n",
    "    recipe.is_vegetarian.append(json_recipe[\"vegetarian\"])\n",
    "    if len(recipe.has_ingredient)*3 + time.amount_of_time[0] < 20: # Easy\n",
    "        recipe.has_difficulty.append(1)\n",
    "    elif len(recipe.has_ingredient)*3 + time.amount_of_time[0] < 60: # Middle\n",
    "        recipe.has_difficulty.append(2)\n",
    "    else: # Difficult\n",
    "        recipe.has_difficulty.append(3)\n",
    "    \n",
    "    # Nutrients\n",
    "    nutrients = json_recipe[\"nutrients\"]\n",
    "    calories, existed = createIndividual(\"calories_\" + nutrients[\"kcal\"][0], BaseClass=Calories)\n",
    "    if not existed:\n",
    "        calories.amount_of_calories.append(float(nutrients[\"kcal\"][0]))\n",
    "    recipe.has_calories.append(calories)\n",
    "    \n",
    "    protein, existed = createIndividual(\"protein_\" + nutrients[\"protein\"][0], BaseClass=Protein)\n",
    "    if not existed:\n",
    "        protein.amount_of_protein.append(float(nutrients[\"protein\"][0]))\n",
    "    recipe.has_protein.append(protein)\n",
    "    \n",
    "    fat, existed = createIndividual(\"fat_\" + nutrients[\"fat\"][0], BaseClass=Fat)\n",
    "    if not existed:\n",
    "        fat.amount_of_fat.append(float(nutrients[\"fat\"][0]))\n",
    "    recipe.has_fat.append(fat)\n",
    "    \n",
    "    carbohydrates, existed = createIndividual(\"carbohydrates_\" + nutrients[\"carbs\"][0], BaseClass=Calories)\n",
    "    if not existed:\n",
    "        carbohydrates.amount_of_carbohydrates.append(float(nutrients[\"carbs\"][0]))\n",
    "    recipe.has_carbohydrates.append(carbohydrates)\n",
    "    \n",
    "    recipe.has_link.append(json_recipe[\"source\"])\n",
    "\n"
   ],
   "outputs": [],
   "execution_count": 62
  },
  {
   "metadata": {
    "ExecuteTime": {
     "end_time": "2024-11-29T22:46:26.007277Z",
     "start_time": "2024-11-29T22:46:26.005093Z"
    }
   },
   "cell_type": "code",
   "source": "",
   "id": "3844cb32cdf767a7",
   "outputs": [],
   "execution_count": null
  },
  {
   "cell_type": "markdown",
   "id": "457f4aff04b06e9a",
   "metadata": {},
   "source": []
  },
  {
   "cell_type": "code",
   "id": "e4a1277e8a74717c",
   "metadata": {
    "ExecuteTime": {
     "end_time": "2024-11-29T22:46:26.029136Z",
     "start_time": "2024-11-29T22:46:26.024058Z"
    }
   },
   "source": [
    "with onto:\n",
    "    print(list(default_world.inconsistent_classes()))\n",
    "    print(len(list(map(lambda a: a.name, onto.individuals()))))\n",
    "\n",
    "print(onto[\"Spinach, sweet potato & lentil dhal\"])\n",
    "print(type(onto[\"Spinach, sweet potato & lentil dhal\"]))\n",
    "print(onto[\"Spinach, sweet potato & lentil dhal\"].has_ingredient)\n",
    "\n"
   ],
   "outputs": [
    {
     "name": "stdout",
     "output_type": "stream",
     "text": [
      "[]\n",
      "235\n",
      "feinschmecker.Spinach, sweet potato & lentil dhal\n",
      "feinschmecker.Recipe\n",
      "[feinschmecker.sesame_oil_with_amount, feinschmecker.onion_finely_chopped_with_amount, feinschmecker.clove_crushed_with_amount, feinschmecker.-sized_piece_ginger_peeled_and_finely_chopped_with_amount, feinschmecker.chilli_finely_chopped_with_amount, feinschmecker.½_tsp_ground_turmeric_with_amount, feinschmecker.½_tsp_ground_cumin_with_amount, feinschmecker.potatoes_(about_400g/14oz),_cut_into_even_chunks_with_amount, feinschmecker.red_split_lentils_with_amount, feinschmecker.vegetable_stock_with_amount, feinschmecker.bag_of_spinach_with_amount, feinschmecker.onions_sliced_on_the_diagonal,_to_serve_with_amount, feinschmecker.½_small_pack_of_thai_basil_leaves_torn,_to_serve_with_amount]\n"
     ]
    }
   ],
   "execution_count": 63
  },
  {
   "cell_type": "markdown",
   "id": "7a3a7b9157b930db",
   "metadata": {},
   "source": [
    "## Temporary deletion to avoid side effects"
   ]
  },
  {
   "cell_type": "code",
   "id": "42deb7b620f18b68",
   "metadata": {
    "ExecuteTime": {
     "end_time": "2024-11-29T22:46:26.127110Z",
     "start_time": "2024-11-29T22:46:26.104530Z"
    }
   },
   "source": [
    "onto.save(\"feinschmecker.rdf\")\n",
    "onto.destroy(update_relation=True, update_is_a=True)"
   ],
   "outputs": [],
   "execution_count": 64
  },
  {
   "metadata": {
    "ExecuteTime": {
     "end_time": "2024-11-29T22:46:26.162552Z",
     "start_time": "2024-11-29T22:46:26.160038Z"
    }
   },
   "cell_type": "code",
   "source": "",
   "id": "ebd4bc3e0aa0ba13",
   "outputs": [],
   "execution_count": null
  }
 ],
 "metadata": {
  "kernelspec": {
   "display_name": "base",
   "language": "python",
   "name": "python3"
  },
  "language_info": {
   "codemirror_mode": {
    "name": "ipython",
    "version": 2
   },
   "file_extension": ".py",
   "mimetype": "text/x-python",
   "name": "python",
   "nbconvert_exporter": "python",
   "pygments_lexer": "ipython2",
   "version": "3.11.2"
  }
 },
 "nbformat": 4,
 "nbformat_minor": 5
}
