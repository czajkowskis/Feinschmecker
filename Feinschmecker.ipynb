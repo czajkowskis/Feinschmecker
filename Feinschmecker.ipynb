{
 "cells": [
  {
   "cell_type": "code",
   "id": "initial_id",
   "metadata": {
    "collapsed": true,
    "ExecuteTime": {
     "end_time": "2024-11-08T21:28:49.050020Z",
     "start_time": "2024-11-08T21:28:49.044300Z"
    }
   },
   "source": [
    "import owlready2\n",
    "# imports\n",
    "from rdflib import Graph, Literal, URIRef, Namespace\n",
    "from rdflib.namespace import OWL, RDF, RDFS, XSD\n",
    "from owlready2 import *\n"
   ],
   "outputs": [],
   "execution_count": 100
  },
  {
   "metadata": {
    "ExecuteTime": {
     "end_time": "2024-11-08T21:28:49.469538Z",
     "start_time": "2024-11-08T21:28:49.457565Z"
    }
   },
   "cell_type": "code",
   "source": [
    "NAMESPACE = \"https://jaron@sprute.com/uni/actionable-knowledge-representation/feinschmecker\"\n",
    "onto = get_ontology(NAMESPACE)\n",
    "\n",
    "def ThingFactory(name, BaseClass=Thing):\n",
    "    with onto:\n",
    "        return type(name, (BaseClass,), {})\n",
    "\n",
    "def RelationFactory(name, domain:list[ThingClass]=None, range:list[ThingClass]=None):\n",
    "    if domain is None:\n",
    "        domain = [Thing]\n",
    "    if range is None:\n",
    "        range = [Thing]\n",
    "    with onto:\n",
    "        return type(name, (ObjectProperty, ), {\n",
    "            \"domain\": domain,\n",
    "            \"range\": range,\n",
    "        })\n",
    "\n",
    "Text = ThingFactory(\"Text\")\n",
    "Hello = ThingFactory(\"Hello\", BaseClass=Text)\n",
    "World = ThingFactory(\"World\", BaseClass=Text)\n",
    "continuesWith = RelationFactory(\"continuesWith\", domain=[Text], range=[Text])\n",
    "\n",
    "onto.destroy()\n"
   ],
   "id": "ae25fac2013c8a0a",
   "outputs": [],
   "execution_count": 101
  },
  {
   "metadata": {
    "ExecuteTime": {
     "end_time": "2024-11-08T14:20:32.133914Z",
     "start_time": "2024-11-08T14:20:32.129741Z"
    }
   },
   "cell_type": "code",
   "source": "",
   "id": "cc3c08522be55fd5",
   "outputs": [],
   "execution_count": null
  },
  {
   "metadata": {
    "ExecuteTime": {
     "end_time": "2024-11-08T14:19:44.566962Z",
     "start_time": "2024-11-08T14:19:44.563085Z"
    }
   },
   "cell_type": "code",
   "source": "",
   "id": "e135c3e8b3571971",
   "outputs": [],
   "execution_count": null
  }
 ],
 "metadata": {
  "kernelspec": {
   "display_name": "Python 3",
   "language": "python",
   "name": "python3"
  },
  "language_info": {
   "codemirror_mode": {
    "name": "ipython",
    "version": 2
   },
   "file_extension": ".py",
   "mimetype": "text/x-python",
   "name": "python",
   "nbconvert_exporter": "python",
   "pygments_lexer": "ipython2",
   "version": "2.7.6"
  }
 },
 "nbformat": 4,
 "nbformat_minor": 5
}
