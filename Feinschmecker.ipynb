{
 "cells": [
  {
   "cell_type": "code",
   "id": "initial_id",
   "metadata": {
    "collapsed": true,
    "ExecuteTime": {
     "end_time": "2024-11-08T12:18:36.521662Z",
     "start_time": "2024-11-08T12:18:36.517099Z"
    }
   },
   "source": [
    "from IPython.core.release import author\n",
    "# imports\n",
    "from rdflib import Graph, Literal, URIRef, Namespace\n",
    "from rdflib.namespace import OWL, RDF, RDFS, XSD\n",
    "from owlready2 import *\n"
   ],
   "outputs": [],
   "execution_count": 21
  },
  {
   "metadata": {
    "ExecuteTime": {
     "end_time": "2024-11-08T12:18:36.548741Z",
     "start_time": "2024-11-08T12:18:36.536557Z"
    }
   },
   "cell_type": "code",
   "source": [
    "NAMESPACE = \"https://jaron.sprute.com/uni/actionable-knowledge-representation/feinschmecker#\"\n",
    "\n",
    "g = Graph()\n",
    "\n",
    "# Create prefix fs_kg with given namespace\n",
    "# You can define your own namespaces by passing any IRI and bind to an abbrevation\n",
    "productkg = Namespace(NAMESPACE)\n",
    "#even though the namespaces are imported already, they need to be bound to variables so they can be used\n",
    "g.bind(\"feinschmecker\", productkg)\n",
    "g.bind(\"owl\", OWL)\n",
    "\n",
    "\n",
    "recipe = URIRef(NAMESPACE + \"Recipe\")\n",
    "time = URIRef(NAMESPACE + \"Time\")\n",
    "source = URIRef(NAMESPACE + \"Source\")\n",
    "author = URIRef(NAMESPACE + \"Author\")\n",
    "ingredient = URIRef(NAMESPACE + \"Ingredient\")\n",
    "\n",
    "requiresTime = URIRef(NAMESPACE + \"RequiresTime\")\n",
    "hasIngredient = URIRef(NAMESPACE + \"hasIngredient\")\n",
    "\n",
    "\n",
    "g.add((recipe, RDFS.subClassOf, OWL.Thing))\n",
    "g.add((time, RDFS.subClassOf, OWL.Thing))\n",
    "g.add((source, RDFS.subClassOf, OWL.Thing))\n",
    "g.add((author, RDFS.subClassOf, OWL.Thing))\n",
    "g.add((ingredient, RDFS.subClassOf, OWL.Thing))\n",
    "\n",
    "g.add((requiresTime, RDF.type, RDF.Property))\n",
    "g.add((hasIngredient, RDF.type, RDF.Property))\n",
    "\n",
    "g.add((recipe, hasIngredient, ingredient))\n",
    "\n",
    "g.print()"
   ],
   "id": "6c6701b5b5f70e9f",
   "outputs": [
    {
     "name": "stdout",
     "output_type": "stream",
     "text": [
      "@prefix feinschmecker: <https://jaron.sprute.com/uni/actionable-knowledge-representation/feinschmecker#> .\n",
      "@prefix owl: <http://www.w3.org/2002/07/owl#> .\n",
      "@prefix rdf: <http://www.w3.org/1999/02/22-rdf-syntax-ns#> .\n",
      "@prefix rdfs: <http://www.w3.org/2000/01/rdf-schema#> .\n",
      "\n",
      "feinschmecker:Author rdfs:subClassOf owl:Thing .\n",
      "\n",
      "feinschmecker:Recipe rdfs:subClassOf owl:Thing ;\n",
      "    feinschmecker:hasIngredient feinschmecker:Ingredient .\n",
      "\n",
      "feinschmecker:RequiresTime a rdf:Property .\n",
      "\n",
      "feinschmecker:Source rdfs:subClassOf owl:Thing .\n",
      "\n",
      "feinschmecker:Time rdfs:subClassOf owl:Thing .\n",
      "\n",
      "feinschmecker:hasIngredient a rdf:Property .\n",
      "\n",
      "feinschmecker:Ingredient rdfs:subClassOf owl:Thing .\n",
      "\n",
      "\n"
     ]
    }
   ],
   "execution_count": 22
  },
  {
   "metadata": {
    "ExecuteTime": {
     "end_time": "2024-11-08T12:25:40.168464Z",
     "start_time": "2024-11-08T12:25:40.160855Z"
    }
   },
   "cell_type": "code",
   "source": [
    "\n",
    "onto = get_ontology(NAMESPACE)\n",
    "\n",
    "def ThingFactory(name, argnames, BaseClass=Thing):\n",
    "    return newclass = type(name, (BaseClass,), {\"__init__\": __init__})\n",
    "    def __init__(self, **kwargs):\n",
    "        a=2\n",
    "        BaseClass.__init__(self)\n",
    "    newclass = type(name, (BaseClass,),{\"__init__\": __init__})\n",
    "    return newclass\n",
    "\n",
    "hello = ThingFactory(\"Hello\", None)\n"
   ],
   "id": "ae25fac2013c8a0a",
   "outputs": [],
   "execution_count": 26
  },
  {
   "metadata": {
    "ExecuteTime": {
     "end_time": "2024-11-08T12:18:36.829629Z",
     "start_time": "2024-11-08T12:18:36.826009Z"
    }
   },
   "cell_type": "code",
   "source": "",
   "id": "cc3c08522be55fd5",
   "outputs": [],
   "execution_count": null
  }
 ],
 "metadata": {
  "kernelspec": {
   "display_name": "Python 3",
   "language": "python",
   "name": "python3"
  },
  "language_info": {
   "codemirror_mode": {
    "name": "ipython",
    "version": 2
   },
   "file_extension": ".py",
   "mimetype": "text/x-python",
   "name": "python",
   "nbconvert_exporter": "python",
   "pygments_lexer": "ipython2",
   "version": "2.7.6"
  }
 },
 "nbformat": 4,
 "nbformat_minor": 5
}
